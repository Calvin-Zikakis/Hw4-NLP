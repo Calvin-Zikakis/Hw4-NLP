{
 "cells": [
  {
   "cell_type": "code",
   "execution_count": 64,
   "metadata": {},
   "outputs": [],
   "source": [
    "import numpy as np\n",
    "import re\n",
    "\n",
    "with open(\"blogtext.csv\") as file:\n",
    "    sentences = file.readlines()\n",
    "#open file\n",
    "file.close()\n",
    "\n",
    "clean_data = []\n",
    "\n",
    "for count, item in enumerate(sentences):\n",
    "    if count == 3006:\n",
    "        break\n",
    "    \n",
    "    item_list = item.split(\"\\\"\")\n",
    "    \n",
    "    if count >= 6:\n",
    "        \n",
    "        words = \"\"\n",
    "        post = item_list[3]\n",
    " \n",
    "        res = re.sub(' +', ' ', post)\n",
    "        res.strip('\\t')\n",
    "        res.strip('\\n')\n",
    "        \n",
    "        split_post = res.split(\" \")\n",
    "        \n",
    "        for word in split_post:\n",
    "            if word != \"urlLink\":\n",
    "                words = words + \" \" + word   \n",
    "                \n",
    "        clean_data.append(words)\n",
    "\n",
    "output = open(\"secondary_dataset.txt\", \"w+\")\n",
    "for i in clean_data:\n",
    "    output.write(i + \"\\n\")\n"
   ]
  },
  {
   "cell_type": "code",
   "execution_count": null,
   "metadata": {},
   "outputs": [],
   "source": [
    "with open(\"blogtext.csv\") as file:\n",
    "    sentences = file.readlines()\n",
    "#open file\n",
    "file.close()\n"
   ]
  }
 ],
 "metadata": {
  "kernelspec": {
   "display_name": "Python 3",
   "language": "python",
   "name": "python3"
  },
  "language_info": {
   "codemirror_mode": {
    "name": "ipython",
    "version": 3
   },
   "file_extension": ".py",
   "mimetype": "text/x-python",
   "name": "python",
   "nbconvert_exporter": "python",
   "pygments_lexer": "ipython3",
   "version": "3.7.6"
  }
 },
 "nbformat": 4,
 "nbformat_minor": 4
}
