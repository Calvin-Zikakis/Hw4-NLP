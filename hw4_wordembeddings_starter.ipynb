{
 "cells": [
  {
   "cell_type": "markdown",
   "metadata": {},
   "source": [
    "For this homework, make sure that you format your notbook nicely and cite all sources in the appropriate sections. Programmatically generate or embed any figures or graphs that you need.\n",
    "\n",
    "Names: Calvin Zikakis, Sarah Schwallier"
   ]
  },
  {
   "cell_type": "markdown",
   "metadata": {},
   "source": [
    "Section 1: Word2Vec paper questions\n",
    "---------------------------\n",
    "\n",
    "    1) Describe how a CBOW word embedding is generated.\n",
    "\n",
    "    2) What is a CBOW word embedding and how is it different than a skip-gram word embedding?\n",
    "\n",
    "    3) What is the task that the authors use to evaluate the generated word embeddings?\n",
    "\n",
    "    4) What are PCA and t-SNE? Why are these important to the task of training and interpreting word embeddings?"
   ]
  },
  {
   "cell_type": "markdown",
   "metadata": {},
   "source": [
    "Sources Cited\n",
    "--------------------------\n",
    "Cite all sources that you consulted to answer these questions here, including textbooks, papers, online resources, friends, etc."
   ]
  },
  {
   "cell_type": "markdown",
   "metadata": {},
   "source": [
    "Section 2: Training your own word embeddings\n",
    "--------------------------------\n",
    "\n",
    "The spooky authors dataset consists of excerpts from authors of horror novels including Edgar Allan Poe, Mary Shelley, and HP Lovecraft. These excerpts each have a unique ID as well as a three letter tag describing which author wrote the excerpt. The data is split into a training set and a test set. The test set is lacking the three letter code which labels the author. \n",
    "\n",
    "\n",
    "Describe what data set you have chosen to compare and contrast with the Spooky Authors Dataset. Make sure to describe where it comes from and it's general properties.\n",
    "\n",
    "\n",
    "\n"
   ]
  },
  {
   "cell_type": "code",
   "execution_count": null,
   "metadata": {},
   "outputs": [],
   "source": [
    "# import your libraries here\n",
    "import numpy as np\n",
    "import sklearn\n",
    "import keras\n",
    "import utils\n",
    "import matplotlib.pyplot as plt\n",
    "import pandas\n",
    "%matplotlib inline"
   ]
  },
  {
   "cell_type": "code",
   "execution_count": 1,
   "metadata": {},
   "outputs": [],
   "source": [
    "# code to train your word embeddings"
   ]
  },
  {
   "cell_type": "markdown",
   "metadata": {},
   "source": [
    "Sources Cited\n",
    "--------------------------\n",
    "Cite all sources that you consulted to answer these questions here, including textbooks, papers, online resources, friends, etc."
   ]
  },
  {
   "cell_type": "markdown",
   "metadata": {},
   "source": [
    "Section 3: Evaluate the differences between the word embeddings\n",
    "----------------------------\n",
    "\n",
    "(make sure to include graphs, figures, and paragraphs with full sentences)"
   ]
  },
  {
   "cell_type": "markdown",
   "metadata": {},
   "source": [
    "Sources Cited\n",
    "--------------------------\n",
    "Cite all sources that you consulted to answer these questions here, including textbooks, papers, online resources, friends, etc."
   ]
  },
  {
   "cell_type": "markdown",
   "metadata": {},
   "source": [
    "Section 4: Feedforward Neural Language Model\n",
    "--------------------------"
   ]
  },
  {
   "cell_type": "code",
   "execution_count": null,
   "metadata": {},
   "outputs": [],
   "source": [
    "# code to train a feedforward neural language model\n",
    "# on a set of given word embeddings\n",
    "# make sure not to just copy + paste to train your two"
   ]
  },
  {
   "cell_type": "markdown",
   "metadata": {},
   "source": [
    "Sources Cited\n",
    "--------------------------\n",
    "Cite all sources that you consulted to answer these questions here, including textbooks, papers, online resources, friends, etc."
   ]
  },
  {
   "cell_type": "markdown",
   "metadata": {},
   "source": [
    "Section 5: Recurrent Neural Language Model\n",
    "--------------------------"
   ]
  },
  {
   "cell_type": "code",
   "execution_count": null,
   "metadata": {},
   "outputs": [],
   "source": [
    "# code to train a recurrent neural language model \n",
    "# on a set of given word embeddings\n",
    "# make sure not to just copy + paste to train your two "
   ]
  },
  {
   "cell_type": "markdown",
   "metadata": {},
   "source": [
    "Sources Cited\n",
    "--------------------------\n",
    "Cite all sources that you consulted to answer these questions here, including textbooks, papers, online resources, friends, etc."
   ]
  },
  {
   "cell_type": "markdown",
   "metadata": {},
   "source": [
    "Section 6: Evaluate the differences between the two language models\n",
    "----------------------------\n",
    "\n",
    "(make sure to include graphs, figures, and paragraphs with full sentences)"
   ]
  },
  {
   "cell_type": "markdown",
   "metadata": {},
   "source": [
    "Sources Cited\n",
    "--------------------------\n",
    "Cite all sources that you consulted to answer these questions here, including textbooks, papers, online resources, friends, etc."
   ]
  }
 ],
 "metadata": {
  "kernelspec": {
   "display_name": "Python 3",
   "language": "python",
   "name": "python3"
  },
  "language_info": {
   "codemirror_mode": {
    "name": "ipython",
    "version": 3
   },
   "file_extension": ".py",
   "mimetype": "text/x-python",
   "name": "python",
   "nbconvert_exporter": "python",
   "pygments_lexer": "ipython3",
   "version": "3.7.6"
  }
 },
 "nbformat": 4,
 "nbformat_minor": 4
}
