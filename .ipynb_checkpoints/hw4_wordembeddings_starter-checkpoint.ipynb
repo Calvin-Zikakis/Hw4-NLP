{
 "cells": [
  {
   "cell_type": "markdown",
   "metadata": {},
   "source": [
    "For this homework, make sure that you format your notbook nicely and cite all sources in the appropriate sections. Programmatically generate or embed any figures or graphs that you need.\n",
    "\n",
    "Names: Calvin Zikakis, Sarah Schwallier"
   ]
  },
  {
   "cell_type": "markdown",
   "metadata": {},
   "source": [
    "Section 1: Word2Vec paper questions\n",
    "---------------------------\n",
    "\n",
    "    1) Describe how a CBOW word embedding is generated.\n",
    "\n",
    "    2) What is a CBOW word embedding and how is it different than a skip-gram word embedding?\n",
    "\n",
    "    3) What is the task that the authors use to evaluate the generated word embeddings?\n",
    "\n",
    "    4) What are PCA and t-SNE? Why are these important to the task of training and interpreting word embeddings?"
   ]
  },
  {
   "cell_type": "markdown",
   "metadata": {},
   "source": [
    "Sources Cited\n",
    "--------------------------\n",
    "Cite all sources that you consulted to answer these questions here, including textbooks, papers, online resources, friends, etc."
   ]
  },
  {
   "cell_type": "markdown",
   "metadata": {},
   "source": [
    "Section 2: Training your own word embeddings\n",
    "--------------------------------\n",
    "\n",
    "The spooky authors dataset consists of excerpts from authors of horror novels including Edgar Allan Poe, Mary Shelley, and HP Lovecraft. These excerpts each have a unique ID as well as a three letter tag describing which author wrote the excerpt. The data is split into a training set and a test set. The test set is lacking the three letter code which labels the author. \n",
    "\n",
    "\n",
    "Describe what data set you have chosen to compare and contrast with the Spooky Authors Dataset. Make sure to describe where it comes from and it's general properties.\n",
    "\n",
    "\n",
    "\n"
   ]
  },
  {
   "cell_type": "code",
   "execution_count": 29,
   "metadata": {},
   "outputs": [],
   "source": [
    "# import your libraries here\n",
    "import numpy as np\n",
    "import sklearn\n",
    "import keras\n",
    "import matplotlib.pyplot as plt\n",
    "import pandas\n",
    "import csv\n",
    "from csv import reader\n",
    "%matplotlib inline"
   ]
  },
  {
   "cell_type": "code",
   "execution_count": 70,
   "metadata": {},
   "outputs": [],
   "source": [
    "import re\n",
    "from csv import reader\n",
    "\n",
    "\n",
    "def format_secondaryDataset(training_file_path, output_file):\n",
    "    #this function takes the dataset and splits it to sentences and stores those in a txt file\n",
    "    \n",
    "    with open(training_file_path) as file:\n",
    "        sentences = file.readlines()\n",
    "    #open file\n",
    "    \n",
    "    file.close()\n",
    "    \n",
    "    output = open(output_file, \"w+\")\n",
    "    \n",
    "    count = 0\n",
    "    \n",
    "    for line in reader(sentences):\n",
    "        blog_post = line[6]\n",
    "        #Line[6] contains the blog post\n",
    "        \n",
    "        if count >= 7:\n",
    "        #skip the stuff in the beggining. It's unneeded\n",
    "        \n",
    "            sentences = blog_post.split(\".\")\n",
    "            #split the post on the periods to extract individual sentences\n",
    "            \n",
    "            for sentence in sentences:\n",
    "            #loop over our list of sentences\n",
    "            \n",
    "                if sentence != \"\":\n",
    "                #some blog posts contain '...'. This creates empty sentences. We don't want empty sentences\n",
    "                    \n",
    "                    #lets clean the sentence of symbols and make it all lowercase\n",
    "                    \n",
    "                    res = re.sub(' +', ' ', sentence)\n",
    "                    res.strip('\\t')\n",
    "                    res.strip('\\n')\n",
    "                    #strip tabs and newlines\n",
    "                    \n",
    "                    lower = res.lower()\n",
    "                    #make all lower case\n",
    "\n",
    "                    whitelist = set('abcdefghijklmnopqrstuvwxyz 1234567890')\n",
    "                    no_numbers_punct = ''.join(filter(whitelist.__contains__, lower))\n",
    "                    #gets rid of punctuation\n",
    "\n",
    "                    cleaned = no_numbers_punct.split()\n",
    "                    \n",
    "                    black_list = ['urllink']\n",
    "                    #allows us to remove all 'urlLink' occurances\n",
    "                    \n",
    "                    if len(cleaned) > 4:\n",
    "                        #we are only concerned with sentences longer than 4 words\n",
    "                        output.write(\" \".join([i for i in cleaned if i not in black_list]) + \"\\n\")\n",
    "                    \n",
    "                    \n",
    "        if count == 2000:\n",
    "        #Do not need this full dataset... It's 800mb's\n",
    "            break\n",
    "        \n",
    "        count += 1\n",
    "        \n",
    "        \n",
    "        \n",
    "        \n",
    "        \n",
    "\n",
    "\n",
    "format_secondaryDataset(\"blogtext.csv\", \"secondaryDataset.txt\")\n",
    "\n"
   ]
  },
  {
   "cell_type": "code",
   "execution_count": 46,
   "metadata": {},
   "outputs": [
    {
     "name": "stdout",
     "output_type": "stream",
     "text": [
      "[['this', 'process', 'however', 'afforded', 'me', 'no', 'means', 'of', 'ascertaining', 'the', 'dimensions', 'of', 'my', 'dungeon', 'as', 'i', 'might', 'make', 'its', 'circuit', 'and', 'return', 'to', 'the', 'point', 'whence', 'i', 'set', 'out', 'without', 'being', 'aware', 'of', 'the', 'fact', 'so', 'perfectly', 'uniform', 'seemed', 'the', 'wall'], ['it', 'never', 'once', 'occurred', 'to', 'me', 'that', 'the', 'fumbling', 'might', 'be', 'a', 'mere', 'mistake'], ['in', 'his', 'left', 'hand', 'was', 'a', 'gold', 'snuff', 'box', 'from', 'which', 'as', 'he', 'capered', 'down', 'the', 'hill', 'cutting', 'all', 'manner', 'of', 'fantastic', 'steps', 'he', 'took', 'snuff', 'incessantly', 'with', 'an', 'air', 'of', 'the', 'greatest', 'possible', 'self', 'satisfaction'], ['how', 'lovely', 'is', 'spring', 'as', 'we', 'looked', 'from', 'windsor', 'terrace', 'on', 'the', 'sixteen', 'fertile', 'counties', 'spread', 'beneath', 'speckled', 'by', 'happy', 'cottages', 'and', 'wealthier', 'towns', 'all', 'looked', 'as', 'in', 'former', 'years', 'heart', 'cheering', 'and', 'fair'], ['finding', 'nothing', 'else', 'not', 'even', 'gold', 'the', 'superintendent', 'abandoned', 'his', 'attempts', 'but', 'a', 'perplexed', 'look', 'occasionally', 'steals', 'over', 'his', 'countenance', 'as', 'he', 'sits', 'thinking', 'at', 'his', 'desk'], ['a', 'youth', 'passed', 'in', 'solitude', 'my', 'best', 'years', 'spent', 'under', 'your', 'gentle', 'and', 'feminine', 'fosterage', 'has', 'so', 'refined', 'the', 'groundwork', 'of', 'my', 'character', 'that', 'i', 'cannot', 'overcome', 'an', 'intense', 'distaste', 'to', 'the', 'usual', 'brutality', 'exercised', 'on', 'board', 'ship', 'i', 'have', 'never', 'believed', 'it', 'to', 'be', 'necessary', 'and', 'when', 'i', 'heard', 'of', 'a', 'mariner', 'equally', 'noted', 'for', 'his', 'kindliness', 'of', 'heart', 'and', 'the', 'respect', 'and', 'obedience', 'paid', 'to', 'him', 'by', 'his', 'crew', 'i', 'felt', 'myself', 'peculiarly', 'fortunate', 'in', 'being', 'able', 'to', 'secure', 'his', 'services'], ['the', 'astronomer', 'perhaps', 'at', 'this', 'point', 'took', 'refuge', 'in', 'the', 'suggestion', 'of', 'non', 'luminosity', 'and', 'here', 'analogy', 'was', 'suddenly', 'let', 'fall'], ['the', 'surcingle', 'hung', 'in', 'ribands', 'from', 'my', 'body'], ['i', 'knew', 'that', 'you', 'could', 'not', 'say', 'to', 'yourself', 'stereotomy', 'without', 'being', 'brought', 'to', 'think', 'of', 'atomies', 'and', 'thus', 'of', 'the', 'theories', 'of', 'epicurus', 'and', 'since', 'when', 'we', 'discussed', 'this', 'subject', 'not', 'very', 'long', 'ago', 'i', 'mentioned', 'to', 'you', 'how', 'singularly', 'yet', 'with', 'how', 'little', 'notice', 'the', 'vague', 'guesses', 'of', 'that', 'noble', 'greek', 'had', 'met', 'with', 'confirmation', 'in', 'the', 'late', 'nebular', 'cosmogony', 'i', 'felt', 'that', 'you', 'could', 'not', 'avoid', 'casting', 'your', 'eyes', 'upward', 'to', 'the', 'great', 'nebula', 'in', 'orion', 'and', 'i', 'certainly', 'expected', 'that', 'you', 'would', 'do', 'so'], ['i', 'confess', 'that', 'neither', 'the', 'structure', 'of', 'languages', 'nor', 'the', 'code', 'of', 'governments', 'nor', 'the', 'politics', 'of', 'various', 'states', 'possessed', 'attractions', 'for', 'me'], ['he', 'shall', 'find', 'that', 'i', 'can', 'feel', 'my', 'injuries', 'he', 'shall', 'learn', 'to', 'dread', 'my', 'revenge', 'a', 'few', 'days', 'after', 'he', 'arrived'], ['here', 'we', 'barricaded', 'ourselves', 'and', 'for', 'the', 'present', 'were', 'secure'], ['herbert', 'west', 'needed', 'fresh', 'bodies', 'because', 'his', 'life', 'work', 'was', 'the', 'reanimation', 'of', 'the', 'dead'], ['the', 'farm', 'like', 'grounds', 'extended', 'back', 'very', 'deeply', 'up', 'the', 'hill', 'almost', 'to', 'wheaton', 'street'], ['but', 'a', 'glance', 'will', 'show', 'the', 'fallacy', 'of', 'this', 'idea'], ['he', 'had', 'escaped', 'me', 'and', 'i', 'must', 'commence', 'a', 'destructive', 'and', 'almost', 'endless', 'journey', 'across', 'the', 'mountainous', 'ices', 'of', 'the', 'ocean', 'amidst', 'cold', 'that', 'few', 'of', 'the', 'inhabitants', 'could', 'long', 'endure', 'and', 'which', 'i', 'the', 'native', 'of', 'a', 'genial', 'and', 'sunny', 'climate', 'could', 'not', 'hope', 'to', 'survive'], ['to', 'these', 'speeches', 'they', 'gave', 'of', 'course', 'their', 'own', 'interpretation', 'fancying', 'no', 'doubt', 'that', 'at', 'all', 'events', 'i', 'should', 'come', 'into', 'possession', 'of', 'vast', 'quantities', 'of', 'ready', 'money', 'and', 'provided', 'i', 'paid', 'them', 'all', 'i', 'owed', 'and', 'a', 'trifle', 'more', 'in', 'consideration', 'of', 'their', 'services', 'i', 'dare', 'say', 'they', 'cared', 'very', 'little', 'what', 'became', 'of', 'either', 'my', 'soul', 'or', 'my', 'carcass'], ['her', 'native', 'sprightliness', 'needed', 'no', 'undue', 'excitement', 'and', 'her', 'placid', 'heart', 'reposed', 'contented', 'on', 'my', 'love', 'the', 'well', 'being', 'of', 'her', 'children', 'and', 'the', 'beauty', 'of', 'surrounding', 'nature'], ['i', 'even', 'went', 'so', 'far', 'as', 'to', 'speak', 'of', 'a', 'slightly', 'hectic', 'cough', 'with', 'which', 'at', 'one', 'time', 'i', 'had', 'been', 'troubled', 'of', 'a', 'chronic', 'rheumatism', 'of', 'a', 'twinge', 'of', 'hereditary', 'gout', 'and', 'in', 'conclusion', 'of', 'the', 'disagreeable', 'and', 'inconvenient', 'but', 'hitherto', 'carefully', 'concealed', 'weakness', 'of', 'my', 'eyes'], ['his', 'facial', 'aspect', 'too', 'was', 'remarkable', 'for', 'its', 'maturity', 'for', 'though', 'he', 'shared', 'his', 'mothers', 'and', 'grandfathers', 'chinlessness', 'his', 'firm', 'and', 'precociously', 'shaped', 'nose', 'united', 'with', 'the', 'expression', 'of', 'his', 'large', 'dark', 'almost', 'latin', 'eyes', 'to', 'give', 'him', 'an', 'air', 'of', 'quasi', 'adulthood', 'and', 'well', 'nigh', 'preternatural', 'intelligence'], ['now', 'the', 'net', 'work', 'was', 'not', 'permanently', 'fastened', 'to', 'the', 'hoop', 'but', 'attached', 'by', 'a', 'series', 'of', 'running', 'loops', 'or', 'nooses'], ['it', 'was', 'not', 'that', 'the', 'sounds', 'were', 'hideous', 'for', 'they', 'were', 'not', 'but', 'that', 'they', 'held', 'vibrations', 'suggesting', 'nothing', 'on', 'this', 'globe', 'of', 'earth', 'and', 'that', 'at', 'certain', 'intervals', 'they', 'assumed', 'a', 'symphonic', 'quality', 'which', 'i', 'could', 'hardly', 'conceive', 'as', 'produced', 'by', 'one', 'player'], ['on', 'every', 'hand', 'was', 'a', 'wilderness', 'of', 'balconies', 'of', 'verandas', 'of', 'minarets', 'of', 'shrines', 'and', 'fantastically', 'carved', 'oriels'], ['with', 'how', 'deep', 'a', 'spirit', 'of', 'wonder', 'and', 'perplexity', 'was', 'i', 'wont', 'to', 'regard', 'him', 'from', 'our', 'remote', 'pew', 'in', 'the', 'gallery', 'as', 'with', 'step', 'solemn', 'and', 'slow', 'he', 'ascended', 'the', 'pulpit', 'this', 'reverend', 'man', 'with', 'countenance', 'so', 'demurely', 'benign', 'with', 'robes', 'so', 'glossy', 'and', 'so', 'clerically', 'flowing', 'with', 'wig', 'so', 'minutely', 'powdered', 'so', 'rigid', 'and', 'so', 'vast', 'could', 'this', 'be', 'he', 'who', 'of', 'late', 'with', 'sour', 'visage', 'and', 'in', 'snuffy', 'habiliments', 'administered', 'ferule', 'in', 'hand', 'the', 'draconian', 'laws', 'of', 'the', 'academy'], ['these', 'bizarre', 'attempts', 'at', 'explanation', 'were', 'followed', 'by', 'others', 'equally', 'bizarre'], ['for', 'many', 'prodigies', 'and', 'signs', 'had', 'taken', 'place', 'and', 'far', 'and', 'wide', 'over', 'sea', 'and', 'land', 'the', 'black', 'wings', 'of', 'the', 'pestilence', 'were', 'spread', 'abroad'], ['all', 'that', 'as', 'yet', 'can', 'fairly', 'be', 'said', 'to', 'be', 'known', 'is', 'that', 'pure', 'gold', 'can', 'be', 'made', 'at', 'will', 'and', 'very', 'readily', 'from', 'lead', 'in', 'connection', 'with', 'certain', 'other', 'substances', 'in', 'kind', 'and', 'in', 'proportions', 'unknown', 'speculation', 'of', 'course', 'is', 'busy', 'as', 'to', 'the', 'immediate', 'and', 'ultimate', 'results', 'of', 'this', 'discovery', 'a', 'discovery', 'which', 'few', 'thinking', 'persons', 'will', 'hesitate', 'in', 'referring', 'to', 'an', 'increased', 'interest', 'in', 'the', 'matter', 'of', 'gold', 'generally', 'by', 'the', 'late', 'developments', 'in', 'california', 'and', 'this', 'reflection', 'brings', 'us', 'inevitably', 'to', 'another', 'the', 'exceeding', 'inopportuneness', 'of', 'von', 'kempelens', 'analysis'], ['i', 'seemed', 'to', 'be', 'upon', 'the', 'verge', 'of', 'comprehension', 'without', 'power', 'to', 'comprehend', 'men', 'at', 'times', 'find', 'themselves', 'upon', 'the', 'brink', 'of', 'remembrance', 'without', 'being', 'able', 'in', 'the', 'end', 'to', 'remember'], ['our', 'compasses', 'depth', 'gauges', 'and', 'other', 'delicate', 'instruments', 'were', 'ruined', 'so', 'that', 'henceforth', 'our', 'only', 'reckoning', 'would', 'be', 'guesswork', 'based', 'on', 'our', 'watches', 'the', 'calendar', 'and', 'our', 'apparent', 'drift', 'as', 'judged', 'by', 'any', 'objects', 'we', 'might', 'spy', 'through', 'the', 'portholes', 'or', 'from', 'the', 'conning', 'tower'], ['this', 'the', 'young', 'warriors', 'took', 'back', 'with', 'them', 'to', 'sarnath', 'as', 'a', 'symbol', 'of', 'conquest', 'over', 'the', 'old', 'gods', 'and', 'beings', 'of', 'ib', 'and', 'a', 'sign', 'of', 'leadership', 'in', 'mnar'], ['meantime', 'the', 'whole', 'paradise', 'of', 'arnheim', 'bursts', 'upon', 'the', 'view'], ['i', 'was', 'rich', 'and', 'young', 'and', 'had', 'a', 'guardian', 'appointed', 'for', 'me', 'and', 'all', 'about', 'me', 'would', 'act', 'as', 'if', 'i', 'were', 'one', 'of', 'their', 'great', 'society', 'while', 'i', 'must', 'keep', 'the', 'secret', 'that', 'i', 'really', 'was', 'cut', 'off', 'from', 'them', 'for', 'ever'], ['we', 'could', 'make', 'out', 'little', 'by', 'the', 'dim', 'light', 'but', 'they', 'seemed', 'to', 'contain', 'prophecies', 'detailed', 'relations', 'of', 'events', 'but', 'lately', 'passed', 'names', 'now', 'well', 'known', 'but', 'of', 'modern', 'date', 'and', 'often', 'exclamations', 'of', 'exultation', 'or', 'woe', 'of', 'victory', 'or', 'defeat', 'were', 'traced', 'on', 'their', 'thin', 'scant', 'pages'], ['even', 'now', 'they', 'talked', 'in', 'their', 'tombs'], ['sheehan', 'especially', 'did', 'they', 'ply', 'with', 'inquiries', 'yet', 'without', 'eliciting', 'any', 'information', 'of', 'value', 'concerning', 'old', 'bugs'], ['he', 'cried', 'aloud', 'once', 'and', 'a', 'little', 'later', 'gave', 'a', 'gasp', 'that', 'was', 'more', 'terrible', 'than', 'a', 'cry'], ['the', 'old', 'tracks', 'crossed', 'river', 'street', 'at', 'grade', 'and', 'at', 'once', 'veered', 'off', 'into', 'a', 'region', 'increasingly', 'rural', 'and', 'with', 'less', 'and', 'less', 'of', 'innsmouths', 'abhorrent', 'fishy', 'odour'], ['his', 'soul', 'overflowed', 'with', 'ardent', 'affections', 'and', 'his', 'friendship', 'was', 'of', 'that', 'devoted', 'and', 'wondrous', 'nature', 'that', 'the', 'world', 'minded', 'teach', 'us', 'to', 'look', 'for', 'only', 'in', 'the', 'imagination'], ['after', 'the', 'first', 'start', 'he', 'replaced', 'the', 'tissue', 'wrapping', 'around', 'the', 'portrait', 'as', 'if', 'to', 'shield', 'it', 'from', 'the', 'sordidness', 'of', 'the', 'place'], ['the', 'present', 'peculiar', 'condition', 'of', 'affairs', 'at', 'court', 'and', 'especially', 'of', 'those', 'intrigues', 'in', 'which', 'd', 'is', 'known', 'to', 'be', 'involved', 'would', 'render', 'the', 'instant', 'availability', 'of', 'the', 'document', 'its', 'susceptibility', 'of', 'being', 'produced', 'at', 'a', 'moments', 'notice', 'a', 'point', 'of', 'nearly', 'equal', 'importance', 'with', 'its', 'possession'], ['wilburs', 'growth', 'was', 'indeed', 'phenomenal', 'for', 'within', 'three', 'months', 'of', 'his', 'birth', 'he', 'had', 'attained', 'a', 'size', 'and', 'muscular', 'power', 'not', 'usually', 'found', 'in', 'infants', 'under', 'a', 'full', 'year', 'of', 'age'], ['pausing', 'i', 'succeeded', 'with', 'difficulty', 'in', 'raising', 'it', 'whereupon', 'there', 'was', 'revealed', 'a', 'black', 'aperture', 'exhaling', 'noxious', 'fumes', 'which', 'caused', 'my', 'torch', 'to', 'sputter', 'and', 'disclosing', 'in', 'the', 'unsteady', 'glare', 'the', 'top', 'of', 'a', 'flight', 'of', 'stone', 'steps'], ['it', 'was', 'all', 'mud', 'an', 'water', 'an', 'the', 'sky', 'was', 'dark', 'an', 'the', 'rain', 'was', 'wipin', 'aout', 'all', 'tracks', 'abaout', 'as', 'fast', 'as', 'could', 'be', 'but', 'beginnin', 'at', 'the', 'glen', 'maouth', 'whar', 'the', 'trees', 'had', 'moved', 'they', 'was', 'still', 'some', 'o', 'them', 'awful', 'prints', 'big', 'as', 'barls', 'like', 'he', 'seen', 'monday'], ['the', 'visits', 'of', 'merrival', 'to', 'windsor', 'before', 'frequent', 'had', 'suddenly', 'ceased'], ['it', 'is', 'not', 'to', 'be', 'supposed', 'however', 'that', 'the', 'great', 'underduk', 'suffered', 'this', 'impertinence', 'on', 'the', 'part', 'of', 'the', 'little', 'old', 'man', 'to', 'pass', 'off', 'with', 'impunity'], ['i', 'need', 'not', 'tell', 'you', 'how', 'sceptical', 'i', 'have', 'hitherto', 'been', 'on', 'the', 'topic', 'of', 'the', 'souls', 'immortality'], ['i', 'often', 'compared', 'myself', 'to', 'them', 'and', 'finding', 'that', 'my', 'chief', 'superiority', 'consisted', 'in', 'power', 'i', 'soon', 'persuaded', 'myself', 'that', 'it', 'was', 'in', 'power', 'only', 'that', 'i', 'was', 'inferior', 'to', 'the', 'chiefest', 'potentates', 'of', 'the', 'earth'], ['and', 'the', 'childrens', 'children', 'and', 'the', 'newcomers', 'children', 'grew', 'up'], ['dr', 'johnson', 'as', 'i', 'beheld', 'him', 'was', 'a', 'full', 'pursy', 'man', 'very', 'ill', 'drest', 'and', 'of', 'slovenly', 'aspect'], ['presently', 'the', 'murmur', 'of', 'water', 'fell', 'gently', 'upon', 'my', 'ear', 'and', 'in', 'a', 'few', 'moments', 'afterward', 'as', 'i', 'turned', 'with', 'the', 'road', 'somewhat', 'more', 'abruptly', 'than', 'hitherto', 'i', 'became', 'aware', 'that', 'a', 'building', 'of', 'some', 'kind', 'lay', 'at', 'the', 'foot', 'of', 'a', 'gentle', 'declivity', 'just', 'before', 'me'], ['ellison', 'was', 'remarkable', 'in', 'the', 'continuous', 'profusion', 'of', 'good', 'gifts', 'lavished', 'upon', 'him', 'by', 'fortune'], ['i', 'still', 'continued', 'in', 'the', 'plane', 'of', 'the', 'elipse', 'but', 'made', 'little', 'progress', 'to', 'the', 'eastward'], ['it', 'was', 'useless', 'to', 'provide', 'many', 'things', 'for', 'we', 'should', 'find', 'abundant', 'provision', 'in', 'every', 'town'], ['they', 'fly', 'quickly', 'over', 'the', 'snow', 'in', 'their', 'sledges', 'the', 'motion', 'is', 'pleasant', 'and', 'in', 'my', 'opinion', 'far', 'more', 'agreeable', 'than', 'that', 'of', 'an', 'english', 'stagecoach'], ['i', 'pointed', 'to', 'the', 'spot', 'where', 'he', 'had', 'disappeared', 'and', 'we', 'followed', 'the', 'track', 'with', 'boats', 'nets', 'were', 'cast', 'but', 'in', 'vain'], ['i', 'have', 'indistinct', 'recollections', 'of', 'a', 'great', 'storm', 'some', 'time', 'after', 'i', 'reached', 'the', 'boat', 'at', 'any', 'rate', 'i', 'know', 'that', 'i', 'heard', 'peals', 'of', 'thunder', 'and', 'other', 'tones', 'which', 'nature', 'utters', 'only', 'in', 'her', 'wildest', 'moods'], ['there', 'had', 'seemed', 'to', 'be', 'no', 'one', 'in', 'the', 'courtyard', 'below', 'and', 'i', 'hoped', 'there', 'would', 'be', 'a', 'chance', 'to', 'get', 'away', 'before', 'the', 'spreading', 'of', 'a', 'general', 'alarm'], ['mein', 'gott', 'do', 'you', 'take', 'me', 'vor', 'a', 'shicken', 'no', 'oh', 'no', 'i', 'replied', 'much', 'alarmed', 'you', 'are', 'no', 'chicken', 'certainly', 'not'], ['perpetual', 'fear', 'had', 'jaundiced', 'his', 'complexion', 'and', 'shrivelled', 'his', 'whole', 'person'], ['the', 'sun', 'set', 'the', 'atmosphere', 'grew', 'dim', 'and', 'the', 'evening', 'star', 'no', 'longer', 'shone', 'companionless'], ['the', 'rain', 'ceased', 'the', 'clouds', 'sunk', 'behind', 'the', 'horizon', 'it', 'was', 'now', 'evening', 'and', 'the', 'sun', 'descended', 'swiftly', 'the', 'western', 'sky'], ['nothing', 'however', 'occurred', 'except', 'some', 'hill', 'noises', 'and', 'when', 'the', 'day', 'came', 'there', 'were', 'many', 'who', 'hoped', 'that', 'the', 'new', 'horror', 'had', 'gone', 'as', 'swiftly', 'as', 'it', 'had', 'come'], ['the', 'state', 'rooms', 'were', 'sufficiently', 'roomy', 'and', 'each', 'had', 'two', 'berths', 'one', 'above', 'the', 'other'], ['it', 'was', 'getting', 'dark', 'and', 'the', 'ancient', 'roofs', 'and', 'chimney', 'pots', 'outside', 'looked', 'very', 'queer', 'through', 'the', 'bulls', 'eye', 'window', 'panes'], ['they', 'were', 'marched', 'to', 'various', 'parts', 'of', 'the', 'southern', 'counties', 'quartered', 'in', 'deserted', 'villages', 'a', 'part', 'were', 'sent', 'back', 'to', 'their', 'own', 'island', 'while', 'the', 'season', 'of', 'winter', 'so', 'far', 'revived', 'our', 'energy', 'that', 'the', 'passes', 'of', 'the', 'country', 'were', 'defended', 'and', 'any', 'increase', 'of', 'numbers', 'prohibited'], ['we', 'suffered', 'no', 'little', 'from', 'cold', 'and', 'the', 'dampness', 'of', 'the', 'atmosphere', 'was', 'most', 'unpleasant', 'but', 'the', 'ample', 'space', 'in', 'the', 'car', 'enabled', 'us', 'to', 'lie', 'down', 'and', 'by', 'means', 'of', 'cloaks', 'and', 'a', 'few', 'blankets', 'we', 'did', 'sufficiently', 'well'], ['i', 'dared', 'i', 'conquered', 'them', 'all', 'till', 'now', 'i', 'have', 'sold', 'myself', 'to', 'death', 'with', 'the', 'sole', 'condition', 'that', 'thou', 'shouldst', 'follow', 'me', 'fire', 'and', 'war', 'and', 'plague', 'unite', 'for', 'thy', 'destruction', 'o', 'my', 'raymond', 'there', 'is', 'no', 'safety', 'for', 'thee', 'with', 'an', 'heavy', 'heart', 'i', 'listened', 'to', 'the', 'changes', 'of', 'her', 'delirium', 'i', 'made', 'her', 'a', 'bed', 'of', 'cloaks', 'her', 'violence', 'decreased', 'and', 'a', 'clammy', 'dew', 'stood', 'on', 'her', 'brow', 'as', 'the', 'paleness', 'of', 'death', 'succeeded', 'to', 'the', 'crimson', 'of', 'fever', 'i', 'placed', 'her', 'on', 'the', 'cloaks'], ['again', 'he', 'seemed', 'to', 'be', 'in', 'the', 'interior', 'of', 'a', 'house', 'an', 'old', 'house', 'apparently', 'but', 'the', 'details', 'and', 'inhabitants', 'were', 'constantly', 'changing', 'and', 'he', 'could', 'never', 'be', 'certain', 'of', 'the', 'faces', 'or', 'the', 'furniture', 'or', 'even', 'of', 'the', 'room', 'itself', 'since', 'doors', 'and', 'windows', 'seemed', 'in', 'just', 'as', 'great', 'a', 'state', 'of', 'flux', 'as', 'the', 'more', 'presumably', 'mobile', 'objects'], ['this', 'gentleman', 'was', 'clothed', 'from', 'head', 'to', 'foot', 'in', 'a', 'richly', 'embroidered', 'black', 'silk', 'velvet', 'pall', 'wrapped', 'negligently', 'around', 'his', 'form', 'after', 'the', 'fashion', 'of', 'a', 'spanish', 'cloak'], ['the', 'pigeons', 'appeared', 'distressed', 'in', 'the', 'extreme', 'and', 'struggled', 'to', 'escape', 'while', 'the', 'cat', 'mewed', 'piteously', 'and', 'with', 'her', 'tongue', 'hanging', 'out', 'of', 'her', 'mouth', 'staggered', 'to', 'and', 'fro', 'in', 'the', 'car', 'as', 'if', 'under', 'the', 'influence', 'of', 'poison'], ['and', 'what', 'about', 'the', 'window', 'panes', 'they', 'were', 'all', 'gone'], ['i', 'panted', 'i', 'gasped', 'for', 'breath', 'there', 'could', 'be', 'no', 'doubt', 'of', 'the', 'design', 'of', 'my', 'tormentors', 'oh', 'most', 'unrelenting', 'oh', 'most', 'demoniac', 'of', 'men', 'i', 'shrank', 'from', 'the', 'glowing', 'metal', 'to', 'the', 'centre', 'of', 'the', 'cell'], ['with', 'great', 'difficulty', 'i', 'gained', 'my', 'feet', 'and', 'looking', 'dizzily', 'around', 'was', 'at', 'first', 'struck', 'with', 'the', 'idea', 'of', 'our', 'being', 'among', 'breakers', 'so', 'terrific', 'beyond', 'the', 'wildest', 'imagination', 'was', 'the', 'whirlpool', 'of', 'mountainous', 'and', 'foaming', 'ocean', 'within', 'which', 'we', 'were', 'engulfed'], ['the', 'next', 'morning', 'i', 'delivered', 'my', 'letters', 'of', 'introduction', 'and', 'paid', 'a', 'visit', 'to', 'some', 'of', 'the', 'principal', 'professors'], ['nor', 'did', 'raymond', 'make', 'an', 'end', 'without', 'drawing', 'in', 'vivid', 'and', 'glowing', 'colours', 'the', 'splendour', 'of', 'a', 'kingdom', 'in', 'opposition', 'to', 'the', 'commercial', 'spirit', 'of', 'republicanism'], ['how', 'this', 'celebrated', 'magazine', 'can', 'sustain', 'its', 'evidently', 'tremendous', 'expenses', 'is', 'more', 'than', 'we', 'can', 'understand'], ['in', 'a', 'week', 'or', 'two', 'it', 'had', 'visibly', 'faded', 'and', 'in', 'the', 'course', 'of', 'a', 'few', 'months', 'it', 'was', 'hardly', 'discernible', 'with', 'the', 'naked', 'eye'], ['the', 'stranger', 'learned', 'about', 'twenty', 'words', 'at', 'the', 'first', 'lesson', 'most', 'of', 'them', 'indeed', 'were', 'those', 'which', 'i', 'had', 'before', 'understood', 'but', 'i', 'profited', 'by', 'the', 'others'], ['each', 'people', 'looked', 'on', 'the', 'coming', 'struggle', 'as', 'that', 'which', 'would', 'be', 'to', 'a', 'great', 'degree', 'decisive', 'as', 'in', 'case', 'of', 'victory', 'the', 'next', 'step', 'would', 'be', 'the', 'siege', 'of', 'constantinople', 'by', 'the', 'greeks'], ['but', 'could', 'not', 'the', 'cavity', 'be', 'detected', 'by', 'sounding'], ['my', 'lieutenant', 'for', 'instance', 'is', 'a', 'man', 'of', 'wonderful', 'courage', 'and', 'enterprise', 'he', 'is', 'madly', 'desirous', 'of', 'glory', 'or', 'rather', 'to', 'word', 'my', 'phrase', 'more', 'characteristically', 'of', 'advancement', 'in', 'his', 'profession'], ['within', 'twenty', 'four', 'hours', 'that', 'machine', 'near', 'the', 'table', 'will', 'generate', 'waves', 'acting', 'on', 'unrecognised', 'sense', 'organs', 'that', 'exist', 'in', 'us', 'as', 'atrophied', 'or', 'rudimentary', 'vestiges'], ['everybody', 'got', 'aout', 'o', 'the', 'idee', 'o', 'dyin', 'excep', 'in', 'canoe', 'wars', 'with', 'the', 'other', 'islanders', 'or', 'as', 'sacrifices', 'to', 'the', 'sea', 'gods', 'daown', 'below', 'or', 'from', 'snake', 'bite', 'or', 'plague', 'or', 'sharp', 'gallopin', 'ailments', 'or', 'somethin', 'afore', 'they', 'cud', 'take', 'to', 'the', 'water', 'but', 'simply', 'looked', 'forrad', 'to', 'a', 'kind', 'o', 'change', 'that', 'want', 'a', 'bit', 'horrible', 'arter', 'a', 'while'], ['the', 'lips', 'were', 'of', 'the', 'usual', 'marble', 'pallor'], ['that', 'is', 'absolutely', 'needless', 'replied', 'g'], ['ahead', 'lay', 'sparse', 'grass', 'and', 'scrub', 'blueberry', 'bushes', 'and', 'beyond', 'them', 'the', 'naked', 'rock', 'of', 'the', 'crag', 'and', 'the', 'thin', 'peak', 'of', 'the', 'dreaded', 'grey', 'cottage'], ['to', 'be', 'near', 'him', 'to', 'be', 'loved', 'by', 'him', 'to', 'feel', 'him', 'again', 'her', 'own', 'was', 'the', 'limit', 'of', 'her', 'desires'], ['the', 'sky', 'was', 'serene', 'and', 'as', 'i', 'was', 'unable', 'to', 'rest', 'i', 'resolved', 'to', 'visit', 'the', 'spot', 'where', 'my', 'poor', 'william', 'had', 'been', 'murdered'], ['i', 'say', 'thing', 'be', 'it', 'observed', 'for', 'they', 'tell', 'me', 'the', 'latin', 'for', 'it', 'is', 'rem'], ['all', 'that', 'he', 'said', 'threw', 'greatly', 'into', 'the', 'shade', 'cornelius', 'agrippa', 'albertus', 'magnus', 'and', 'paracelsus', 'the', 'lords', 'of', 'my', 'imagination', 'but', 'by', 'some', 'fatality', 'the', 'overthrow', 'of', 'these', 'men', 'disinclined', 'me', 'to', 'pursue', 'my', 'accustomed', 'studies'], ['the', 'ex', 'queen', 'gives', 'me', 'idris', 'adrian', 'is', 'totally', 'unfitted', 'to', 'succeed', 'to', 'the', 'earldom', 'and', 'that', 'earldom', 'in', 'my', 'hands', 'becomes', 'a', 'kingdom'], ['the', 'pupils', 'too', 'upon', 'any', 'accession', 'or', 'diminution', 'of', 'light', 'underwent', 'contraction', 'or', 'dilation', 'just', 'such', 'as', 'is', 'observed', 'in', 'the', 'feline', 'tribe'], ['keep', 'up', 'the', 'largest', 'branch', 'the', 'one', 'on', 'this', 'side', 'said', 'legrand'], ['and', 'quivering', 'awhile', 'among', 'the', 'draperies', 'of', 'the', 'room', 'it', 'at', 'length', 'rested', 'in', 'full', 'view', 'upon', 'the', 'surface', 'of', 'the', 'door', 'of', 'brass'], ['maternal', 'affection', 'had', 'not', 'rendered', 'idris', 'selfish', 'at', 'the', 'beginning', 'of', 'our', 'calamity', 'she', 'had', 'with', 'thoughtless', 'enthusiasm', 'devoted', 'herself', 'to', 'the', 'care', 'of', 'the', 'sick', 'and', 'helpless'], ['he', 'came', 'like', 'a', 'protecting', 'spirit', 'to', 'the', 'poor', 'girl', 'who', 'committed', 'herself', 'to', 'his', 'care', 'and', 'after', 'the', 'interment', 'of', 'his', 'friend', 'he', 'conducted', 'her', 'to', 'geneva', 'and', 'placed', 'her', 'under', 'the', 'protection', 'of', 'a', 'relation'], ['i', 'had', 'expected', 'some', 'extravagant', 'proposition', 'and', 'remained', 'silent', 'awhile', 'collecting', 'my', 'thoughts', 'that', 'i', 'might', 'the', 'better', 'combat', 'her', 'fanciful', 'scheme'], ['matters', 'had', 'now', 'assumed', 'a', 'really', 'serious', 'aspect', 'and', 'i', 'resolved', 'to', 'call', 'at', 'once', 'upon', 'my', 'particular', 'friend', 'mr', 'theodore', 'sinivate', 'for', 'i', 'knew', 'that', 'here', 'at', 'least', 'i', 'should', 'get', 'something', 'like', 'definite', 'information'], ['the', 'system', 'had', 'its', 'disadvantages', 'and', 'even', 'its', 'dangers'], ['everyone', 'seemed', 'inclined', 'to', 'be', 'silent', 'now', 'as', 'though', 'holding', 'a', 'secret', 'fear']]\n"
     ]
    }
   ],
   "source": [
    "# code to train your word embeddings\n",
    "def Clean_data_primary_dataset(training_file_path):\n",
    "    #This function tokenizes the primary dataset and returns a cleaned version where each word making up a sentence is a nested list inside a larger list of the corpus\n",
    "    output_list = []\n",
    "\n",
    "    with open(training_file_path) as file:\n",
    "        sentences = file.readlines()\n",
    "    #open file\n",
    "    file.close()\n",
    "    \n",
    "    count = 0\n",
    "        \n",
    "    for line in reader(sentences):\n",
    "        \n",
    "        if count != 0:\n",
    "        #don't want first sentence\n",
    "\n",
    "            sentence = line[1]\n",
    "            \n",
    "            lower = sentence.lower()\n",
    "            #make all lower case\n",
    "\n",
    "            whitelist = set('abcdefghijklmnopqrstuvwxyz 1234567890')\n",
    "            no_numbers_punct = ''.join(filter(whitelist.__contains__, lower))\n",
    "            #gets rid of punctuation\n",
    "\n",
    "            cleaned = no_numbers_punct.split()\n",
    "            \n",
    "            output_list.append(cleaned)\n",
    "            \n",
    "        count += 1\n",
    "\n",
    "    return output_list\n",
    "\n",
    "    \n",
    "output_list = Clean_data_primary_dataset(\"train.csv\")\n",
    "print(output_list[:100])\n",
    "\n",
    "\n",
    "\n"
   ]
  },
  {
   "cell_type": "code",
   "execution_count": null,
   "metadata": {},
   "outputs": [],
   "source": []
  },
  {
   "cell_type": "markdown",
   "metadata": {},
   "source": [
    "Sources Cited\n",
    "--------------------------\n",
    "Cite all sources that you consulted to answer these questions here, including textbooks, papers, online resources, friends, etc."
   ]
  },
  {
   "cell_type": "markdown",
   "metadata": {},
   "source": [
    "Section 3: Evaluate the differences between the word embeddings\n",
    "----------------------------\n",
    "\n",
    "(make sure to include graphs, figures, and paragraphs with full sentences)"
   ]
  },
  {
   "cell_type": "markdown",
   "metadata": {},
   "source": [
    "Sources Cited\n",
    "--------------------------\n",
    "Cite all sources that you consulted to answer these questions here, including textbooks, papers, online resources, friends, etc."
   ]
  },
  {
   "cell_type": "markdown",
   "metadata": {},
   "source": [
    "Section 4: Feedforward Neural Language Model\n",
    "--------------------------"
   ]
  },
  {
   "cell_type": "code",
   "execution_count": null,
   "metadata": {},
   "outputs": [],
   "source": [
    "# code to train a feedforward neural language model\n",
    "# on a set of given word embeddings\n",
    "# make sure not to just copy + paste to train your two"
   ]
  },
  {
   "cell_type": "markdown",
   "metadata": {},
   "source": [
    "Sources Cited\n",
    "--------------------------\n",
    "Cite all sources that you consulted to answer these questions here, including textbooks, papers, online resources, friends, etc."
   ]
  },
  {
   "cell_type": "markdown",
   "metadata": {},
   "source": [
    "Section 5: Recurrent Neural Language Model\n",
    "--------------------------"
   ]
  },
  {
   "cell_type": "code",
   "execution_count": null,
   "metadata": {},
   "outputs": [],
   "source": [
    "# code to train a recurrent neural language model \n",
    "# on a set of given word embeddings\n",
    "# make sure not to just copy + paste to train your two "
   ]
  },
  {
   "cell_type": "markdown",
   "metadata": {},
   "source": [
    "Sources Cited\n",
    "--------------------------\n",
    "Cite all sources that you consulted to answer these questions here, including textbooks, papers, online resources, friends, etc."
   ]
  },
  {
   "cell_type": "markdown",
   "metadata": {},
   "source": [
    "Section 6: Evaluate the differences between the two language models\n",
    "----------------------------\n",
    "\n",
    "(make sure to include graphs, figures, and paragraphs with full sentences)"
   ]
  },
  {
   "cell_type": "markdown",
   "metadata": {},
   "source": [
    "Sources Cited\n",
    "--------------------------\n",
    "Cite all sources that you consulted to answer these questions here, including textbooks, papers, online resources, friends, etc."
   ]
  }
 ],
 "metadata": {
  "kernelspec": {
   "display_name": "Python 3",
   "language": "python",
   "name": "python3"
  },
  "language_info": {
   "codemirror_mode": {
    "name": "ipython",
    "version": 3
   },
   "file_extension": ".py",
   "mimetype": "text/x-python",
   "name": "python",
   "nbconvert_exporter": "python",
   "pygments_lexer": "ipython3",
   "version": "3.7.6"
  }
 },
 "nbformat": 4,
 "nbformat_minor": 4
}
